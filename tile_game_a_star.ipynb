{
 "cells": [
  {
   "cell_type": "code",
   "execution_count": 1,
   "metadata": {},
   "outputs": [],
   "source": [
    "import numpy as np\n",
    "import collections\n",
    "import heapq\n"
   ]
  },
  {
   "cell_type": "code",
   "execution_count": 3,
   "metadata": {},
   "outputs": [],
   "source": [
    "initial_layout = [['📙','📘','📗','📘','📙','📗','📙'],\n",
    "                  ['📕','📗','📕','📘','📕','📘','📙'],\n",
    "                  ['📙','📘','📗','📗','📙','📘','📗'],\n",
    "                  ['📘','📗','📘','📘','📙','📕','📕'],\n",
    "                  ['📕','📗','📘','📙','📙','📘','📘'],\n",
    "                  ['📙','📘','📗','📕','📙','📘','📙'],\n",
    "                  ['📕','📕','📙','📕','📘','📙','📗'],\n",
    "                  ['📗','📗','📕','📗','📗','📙','📗'],\n",
    "                  ['📗','📕','📘','📘','📘','📕','📘']]\n",
    "layout_dict = {'📙':1,\n",
    "               '📘':2,\n",
    "               '📗':3,\n",
    "               '📕':4,}\n",
    "print_dict = {1:'📙',\n",
    "               2:'📘',\n",
    "               3:'📗',\n",
    "               4:'📕',\n",
    "               0:'  '}"
   ]
  },
  {
   "cell_type": "code",
   "execution_count": 4,
   "metadata": {},
   "outputs": [],
   "source": [
    "game_dict = {}\n",
    "board_size = np.array(initial_layout).shape\n",
    "for i in range(board_size[0]):\n",
    "    for j in range(board_size[1]):\n",
    "        number = layout_dict[initial_layout[i][j]]\n",
    "        game_dict[i,j] = number"
   ]
  },
  {
   "cell_type": "code",
   "execution_count": null,
   "metadata": {},
   "outputs": [],
   "source": [
    "class GraphEnvironment():\n",
    "\n",
    "    def __init__(self,initial_layout):\n",
    "        super().__init__()\n",
    "        layout_dict = {'📙':1,\n",
    "                       '📘':2,\n",
    "                       '📗':3,\n",
    "                       '📕':4,}\n",
    "        \n",
    "        board_size = np.array(initial_layout).shape\n",
    "\n",
    "        action_map = {}\n",
    "        game_array = np.zeros(board_size)\n",
    "        action_number = 0\n",
    "        for i in range(board_size[0]):\n",
    "            for j in range(board_size[1]):\n",
    "                number = layout_dict[initial_layout[i][j]]\n",
    "                game_array[i,j] = number\n",
    "                action_map[action_number] = [i,j]\n",
    "                action_number += 1\n",
    "\n",
    "        self.action_space = np.zeros(shape=(len(action_map)))\n",
    "        self.obaservation_space = np.zeros(shape = (board_size[0]*board_size[1]))\n",
    "        self.episode_ended = False\n",
    "        \n",
    "        self.initial_game_array = game_array.astype(int).copy()\n",
    "        self.game_array = game_array.astype(int).copy()\n",
    "        self.board_size = board_size\n",
    "        self.action_map = action_map\n",
    "        self.n_actions = 0\n",
    "        self.n_remaining = np.sum(self.game_array!=0)    \n",
    "\n",
    "\n",
    "\n",
    "    def step(self, game_array_code, action):\n",
    "        \n",
    "        self.game_array = np.array(list(int(c) for c in game_array_code)).reshape(board_size[0],board_size[1])\n",
    "\n",
    "        def clear_tiles(self,i,j,clear_tile):\n",
    "            #print(i,j)\n",
    "            if i<0 or i>=board_size[0] or j < 0 or j>=board_size[1]:\n",
    "                return\n",
    "            tile = self.game_array[i,j]\n",
    "            if tile != clear_tile or clear_tile==0:\n",
    "                return\n",
    "            #print('cleared')\n",
    "            self.game_array[i,j] = 0\n",
    "            clear_tiles(self,i-1,j,clear_tile)\n",
    "            clear_tiles(self,i+1,j,clear_tile)\n",
    "            clear_tiles(self,i,j-1,clear_tile)\n",
    "            clear_tiles(self,i,j+1,clear_tile)\n",
    "\n",
    "        def update_board(self):\n",
    "            for j in range(board_size[1]):\n",
    "                empty_spaces = 0\n",
    "                for i in range(board_size[0]-1,-1,-1):\n",
    "                    if self.game_array[i,j] == 0:\n",
    "                        empty_spaces +=1\n",
    "                    elif empty_spaces>0:\n",
    "                        self.game_array[i+empty_spaces,j] = self.game_array[i,j]\n",
    "                        self.game_array[i,j] = 0\n",
    "\n",
    "        i = self.action_map[int(action)][0]\n",
    "        j = self.action_map[int(action)][1]\n",
    "        clear_tile = int(self.game_array[i,j])\n",
    "        \n",
    "        if clear_tile!=0:\n",
    "            clear_tiles(self,i,j,clear_tile)\n",
    "            update_board(self)\n",
    "\n",
    "        next_state = self.game_array.reshape(-1,1).astype(int)[:,0]\n",
    "        \n",
    "        code = ''\n",
    "        for c in next_state:\n",
    "            code += str(c)\n",
    "        return code\n",
    "    \n",
    "    def calc_heuristic(self,game_array_code):\n",
    "        self.game_array = np.array(list(int(c) for c in game_array_code)).reshape(board_size[0],board_size[1])\n",
    "        n_tiles = np.sum(self.game_array!=0)\n",
    "        if True:\n",
    "            groups_dict = collections.defaultdict(int)\n",
    "            \n",
    "            n_moves = collections.defaultdict(int)\n",
    "            self.game_array = np.array(list(int(c) for c in game_array_code)).reshape(board_size[0],board_size[1])\n",
    "            unique_tiles = set(game_array_code) - set('0')\n",
    "            print(unique_tiles)\n",
    "            for i in unique_tiles:\n",
    "                column_list = np.any(self.game_array==int(i),axis=0)\n",
    "                value = column_list[0]\n",
    "                if value:\n",
    "                    moves = 1\n",
    "                    on_tile = True\n",
    "                else:\n",
    "                    moves = 0\n",
    "                    on_tile = False\n",
    "                for c in column_list[1:]:\n",
    "                    if c != value:\n",
    "                        on_tile = False\n",
    "                    \n",
    "                    if on_tile is False and c is True:\n",
    "                        moves += 1\n",
    "                n_moves[i] = moves\n",
    "            print(n_moves)\n",
    "        def clear_tiles(self,i,j,clear_tile):\n",
    "            #print(i,j)\n",
    "            if i<0 or i>=board_size[0] or j < 0 or j>=board_size[1]:\n",
    "                return\n",
    "            tile = self.game_array[i,j]\n",
    "            if tile != clear_tile or clear_tile==0:\n",
    "                return\n",
    "            #print('cleared')\n",
    "            self.game_array[i,j] = 0\n",
    "            clear_tiles(self,i-1,j,clear_tile)\n",
    "            clear_tiles(self,i+1,j,clear_tile)\n",
    "            clear_tiles(self,i,j-1,clear_tile)\n",
    "            clear_tiles(self,i,j+1,clear_tile)\n",
    "        if False:\n",
    "            current_tiles = n_tiles.copy()\n",
    "            group_size = []\n",
    "            for action in self.action_map.keys():\n",
    "            \n",
    "                i = self.action_map[int(action)][0]\n",
    "                j = self.action_map[int(action)][1]\n",
    "                clear_tile = int(self.game_array[i,j])\n",
    "                \n",
    "                if clear_tile!=0:\n",
    "                    clear_tiles(self,i,j,clear_tile)\n",
    "                    tile_count = np.sum(self.game_array!=0)\n",
    "\n",
    "                    group_size.append(current_tiles - tile_count)\n",
    "                    current_tiles = tile_count\n",
    "\n",
    "            #print(group_size)\n",
    "            average_group_size = np.mean(np.array(group_size))+5\n",
    "        #print(average_group_size)\n",
    "        if False:\n",
    "            min_tile = min(groups_dict,key=groups_dict.get)\n",
    "            #print(min_tile)\n",
    "            unique_tiles = unique_tiles - set(str(min_tile))\n",
    "            #print(groups_dict)\n",
    "            #print(n_moves)\n",
    "            for i in unique_tiles:\n",
    "                groups_dict[i] = max(min(groups_dict[i],n_moves[i]),1)\n",
    "\n",
    "            #print(groups_dict)\n",
    "\n",
    "        return sum(n_moves.values())"
   ]
  },
  {
   "cell_type": "code",
   "execution_count": 95,
   "metadata": {},
   "outputs": [
    {
     "data": {
      "text/plain": [
       "[['📙', '📘', '📗', '📘', '📙', '📗', '📙'],\n",
       " ['📕', '📗', '📕', '📘', '📕', '📘', '📙'],\n",
       " ['📙', '📘', '📗', '📗', '📙', '📘', '📗'],\n",
       " ['📘', '📗', '📘', '📘', '📙', '📕', '📕'],\n",
       " ['📕', '📗', '📘', '📙', '📙', '📘', '📘'],\n",
       " ['📙', '📘', '📗', '📕', '📙', '📘', '📙'],\n",
       " ['📕', '📕', '📙', '📕', '📘', '📙', '📗'],\n",
       " ['📗', '📗', '📕', '📗', '📗', '📙', '📗'],\n",
       " ['📗', '📕', '📘', '📘', '📘', '📕', '📘']]"
      ]
     },
     "execution_count": 95,
     "metadata": {},
     "output_type": "execute_result"
    }
   ],
   "source": [
    "initial_layout"
   ]
  },
  {
   "cell_type": "code",
   "execution_count": 96,
   "metadata": {},
   "outputs": [
    {
     "data": {
      "text/plain": [
       "array([['📗', '📗', '📕', '📗', '📗', '📙', '📗'],\n",
       "       ['📗', '📕', '📘', '📘', '📘', '📕', '📘']], dtype='<U1')"
      ]
     },
     "execution_count": 96,
     "metadata": {},
     "output_type": "execute_result"
    }
   ],
   "source": [
    "np.array(initial_layout)[7:,:]"
   ]
  },
  {
   "cell_type": "code",
   "execution_count": null,
   "metadata": {},
   "outputs": [
    {
     "name": "stdout",
     "output_type": "stream",
     "text": [
      "NEW BEST 25 1 1\n",
      "[[0 0 3 4 1 2 1]\n",
      " [0 2 1 4 2 1 3]\n",
      " [1 4 4 3 3 1 3]\n",
      " [4 4 2 2 2 4 2]]\n",
      "NEW BEST 22 2 2\n",
      "[[0 0 0 0 0 2 1]\n",
      " [0 2 3 4 1 1 3]\n",
      " [1 4 1 4 2 1 3]\n",
      " [4 4 4 3 3 4 2]]\n",
      "NEW BEST 21 2 2\n",
      "[[0 0 0 4 1 2 1]\n",
      " [0 0 3 4 2 1 3]\n",
      " [0 0 1 3 3 1 3]\n",
      " [1 2 2 2 2 4 2]]\n",
      "NEW BEST 19 3 3\n",
      "[[0 0 0 0 0 0 1]\n",
      " [0 2 3 4 0 0 3]\n",
      " [1 4 1 4 2 2 3]\n",
      " [4 4 4 3 3 4 2]]\n",
      "NEW BEST 17 3 3\n",
      "[[0 0 0 0 0 2 1]\n",
      " [0 0 0 4 1 1 3]\n",
      " [0 0 3 4 2 1 3]\n",
      " [1 0 1 3 3 4 2]]\n",
      "NEW BEST 16 4 4\n",
      "[[0 0 0 0 0 0 0]\n",
      " [0 2 3 4 0 0 0]\n",
      " [1 4 1 4 2 2 0]\n",
      " [4 4 4 3 3 4 2]]\n",
      "NEW BEST 14 4 4\n",
      "[[0 0 0 0 0 0 1]\n",
      " [0 0 0 4 0 0 3]\n",
      " [0 0 3 4 2 2 3]\n",
      " [1 0 1 3 3 4 2]]\n",
      "NEW BEST 12 4 4\n",
      "[[0 0 0 0 0 2 1]\n",
      " [0 0 0 0 0 1 3]\n",
      " [0 0 3 0 0 1 3]\n",
      " [1 0 1 0 1 4 2]]\n",
      "NEW BEST 11 5 5\n",
      "[[0 0 0 0 0 0 0]\n",
      " [0 0 0 4 0 0 0]\n",
      " [0 0 3 4 2 2 0]\n",
      " [1 0 1 3 3 4 2]]\n",
      "NEW BEST 8 5 5\n",
      "[[0 0 0 0 0 0 1]\n",
      " [0 0 0 0 0 0 3]\n",
      " [0 0 3 0 0 0 3]\n",
      " [1 0 1 0 0 4 2]]\n",
      "NEW BEST 5 6 6\n",
      "[[0 0 0 0 0 0 0]\n",
      " [0 0 0 0 0 0 0]\n",
      " [0 0 3 0 0 0 0]\n",
      " [1 0 1 0 0 4 2]]\n",
      "NEW BEST 4 7 7\n",
      "[[0 0 0 0 0 0 0]\n",
      " [0 0 0 0 0 0 0]\n",
      " [0 0 0 0 0 0 0]\n",
      " [1 0 1 0 0 4 2]]\n",
      "NEW BEST 3 7 7\n",
      "[[0 0 0 0 0 0 0]\n",
      " [0 0 0 0 0 0 0]\n",
      " [0 0 3 0 0 0 0]\n",
      " [1 0 1 0 0 0 0]]\n",
      "NEW BEST 2 8 8\n",
      "[[0 0 0 0 0 0 0]\n",
      " [0 0 0 0 0 0 0]\n",
      " [0 0 0 0 0 0 0]\n",
      " [1 0 1 0 0 0 0]]\n",
      "NEW BEST 1 9 9\n",
      "[[0 0 0 0 0 0 0]\n",
      " [0 0 0 0 0 0 0]\n",
      " [0 0 0 0 0 0 0]\n",
      " [0 0 1 0 0 0 0]]\n",
      "Made it!\n"
     ]
    }
   ],
   "source": [
    "g_env = GraphEnvironment(np.array(initial_layout)[5:,:])\n",
    "action_list = g_env.action_map\n",
    "board_size = g_env.board_size\n",
    "code = ''\n",
    "for c in g_env.game_array.reshape(-1,1).astype(int)[:,0]:\n",
    "    code += str(c)\n",
    "\n",
    "initial_code = code.copy()\n",
    "goal_code = '0'*len(code)\n",
    "checked_nodes = set()\n",
    "unchecked_nodes = set([code])\n",
    "i = 0\n",
    "len_unchecked = len(unchecked_nodes)\n",
    "\n",
    "# A star algorithm: f = g+h\n",
    "g_scores = collections.defaultdict(lambda: int(100))\n",
    "f_scores = collections.defaultdict(lambda: int(100))\n",
    "\n",
    "g_scores[code] = 0\n",
    "f_scores[code] = 0\n",
    "\n",
    "priority_list = []\n",
    "heapq.heappush(priority_list,(f_scores[code],code))\n",
    "best_g = len(code)\n",
    "\n",
    "cameFrom = dict()\n",
    "while len(priority_list)>0:\n",
    "    current = heapq.heappop(priority_list)\n",
    "    code = current[1]\n",
    "    f = current[0]\n",
    "    #print(f)\n",
    "    code_set = set([code])\n",
    "    if code == goal_code:\n",
    "        print('Made it!')\n",
    "        break\n",
    "    \n",
    "    n_tiles = sum(c!='0' for c in code)\n",
    "    i+=1\n",
    "    if n_tiles<best_g:\n",
    "        print('NEW BEST',n_tiles,g_scores[code],f_scores[code])\n",
    "        print(np.array(list(int(c) for c in code)).reshape(board_size[0],board_size[1]))\n",
    "        best_g = n_tiles\n",
    "\n",
    "    for action in range(len(action_list)):\n",
    "        if code[action] != '0':\n",
    "            new_code = g_env.step(code,action)\n",
    "\n",
    "            tentative_g = g_scores[code] + 1\n",
    "            if tentative_g < g_scores[new_code]:\n",
    "                #h1 = sum(c!='0' for c in new_code)\n",
    "                #h2 = len(set(new_code)-set('0'))\n",
    "                #h = g_env.calc_heuristic(new_code)\n",
    "                h = 0\n",
    "                \n",
    "                cameFrom[new_code] = code\n",
    "                g_scores[new_code] = tentative_g\n",
    "                f_scores[new_code] = tentative_g + h\n",
    "\n",
    "                heapq.heappush(priority_list,(f_scores[new_code],new_code))\n",
    "\n",
    "    \n",
    "    "
   ]
  },
  {
   "cell_type": "code",
   "execution_count": 106,
   "metadata": {},
   "outputs": [],
   "source": [
    "g_env = GraphEnvironment(np.array(initial_layout)[5:,:])\n",
    "action_list = g_env.action_map\n",
    "board_size = g_env.board_size\n",
    "code = ''\n",
    "for c in g_env.game_array.reshape(-1,1).astype(int)[:,0]:\n",
    "    code += str(c)\n",
    "\n",
    "initial_code = code"
   ]
  },
  {
   "cell_type": "code",
   "execution_count": 89,
   "metadata": {},
   "outputs": [
    {
     "data": {
      "text/plain": [
       "array([['📗', '📕', '📘', '📘', '📘', '📕', '📘']], dtype='<U1')"
      ]
     },
     "execution_count": 89,
     "metadata": {},
     "output_type": "execute_result"
    }
   ],
   "source": [
    "np.array(initial_layout)[8:,:]"
   ]
  },
  {
   "cell_type": "code",
   "execution_count": 118,
   "metadata": {},
   "outputs": [],
   "source": [
    "last_code = goal_code\n",
    "reconstructed_path = []\n",
    "#reconstructed_path.append(goal_code)\n",
    "while last_code!= initial_code:\n",
    "    last_code = cameFrom[last_code]\n",
    "    reconstructed_path.append(np.array(list(int(c) for c in last_code)).reshape(g_env.board_size[0],g_env.board_size[1]))"
   ]
  },
  {
   "cell_type": "code",
   "execution_count": 119,
   "metadata": {},
   "outputs": [
    {
     "data": {
      "text/plain": [
       "[array([[1, 2, 3, 4, 1, 2, 1],\n",
       "        [4, 4, 1, 4, 2, 1, 3],\n",
       "        [3, 3, 4, 3, 3, 1, 3],\n",
       "        [3, 4, 2, 2, 2, 4, 2]]),\n",
       " array([[0, 0, 3, 4, 1, 2, 1],\n",
       "        [0, 2, 1, 4, 2, 1, 3],\n",
       "        [1, 4, 4, 3, 3, 1, 3],\n",
       "        [4, 4, 2, 2, 2, 4, 2]]),\n",
       " array([[0, 0, 3, 0, 0, 2, 1],\n",
       "        [0, 2, 1, 4, 1, 1, 3],\n",
       "        [1, 4, 4, 4, 2, 1, 3],\n",
       "        [4, 4, 2, 2, 2, 4, 2]]),\n",
       " array([[0, 0, 0, 0, 0, 2, 1],\n",
       "        [0, 0, 3, 0, 1, 1, 3],\n",
       "        [0, 0, 1, 0, 2, 1, 3],\n",
       "        [1, 2, 2, 2, 2, 4, 2]]),\n",
       " array([[0, 0, 0, 0, 0, 2, 0],\n",
       "        [0, 0, 3, 0, 1, 1, 0],\n",
       "        [0, 0, 1, 0, 2, 1, 1],\n",
       "        [1, 2, 2, 2, 2, 4, 2]]),\n",
       " array([[0, 0, 0, 0, 0, 0, 0],\n",
       "        [0, 0, 3, 0, 0, 0, 0],\n",
       "        [0, 0, 1, 0, 2, 2, 0],\n",
       "        [1, 2, 2, 2, 2, 4, 2]]),\n",
       " array([[0, 0, 0, 0, 0, 0, 0],\n",
       "        [0, 0, 0, 0, 0, 0, 0],\n",
       "        [0, 0, 1, 0, 2, 2, 0],\n",
       "        [1, 2, 2, 2, 2, 4, 2]]),\n",
       " array([[0, 0, 0, 0, 0, 0, 0],\n",
       "        [0, 0, 0, 0, 0, 0, 0],\n",
       "        [0, 0, 1, 0, 2, 0, 0],\n",
       "        [1, 2, 2, 2, 2, 2, 2]]),\n",
       " array([[0, 0, 0, 0, 0, 0, 0],\n",
       "        [0, 0, 0, 0, 0, 0, 0],\n",
       "        [0, 0, 0, 0, 0, 0, 0],\n",
       "        [1, 0, 1, 0, 0, 0, 0]])]"
      ]
     },
     "execution_count": 119,
     "metadata": {},
     "output_type": "execute_result"
    }
   ],
   "source": [
    "reconstructed_path[-1:0:-1]"
   ]
  },
  {
   "cell_type": "code",
   "execution_count": 120,
   "metadata": {},
   "outputs": [
    {
     "data": {
      "text/plain": [
       "10"
      ]
     },
     "execution_count": 120,
     "metadata": {},
     "output_type": "execute_result"
    }
   ],
   "source": [
    "len(reconstructed_path)"
   ]
  },
  {
   "cell_type": "code",
   "execution_count": 102,
   "metadata": {},
   "outputs": [
    {
     "data": {
      "text/plain": [
       "10"
      ]
     },
     "execution_count": 102,
     "metadata": {},
     "output_type": "execute_result"
    }
   ],
   "source": [
    "g_scores[goal_code]"
   ]
  },
  {
   "cell_type": "code",
   "execution_count": 48,
   "metadata": {},
   "outputs": [
    {
     "name": "stdout",
     "output_type": "stream",
     "text": [
      "100 1 1271\n",
      "200 1272 1073\n",
      "300 2345 983\n",
      "400 3328 896\n",
      "500 4224 931\n",
      "600 5155 960\n",
      "700 6115 939\n",
      "800 7054 811\n",
      "900 7865 864\n",
      "1000 8729 918\n",
      "1100 9647 853\n",
      "1200 10500 835\n",
      "1300 11335 892\n",
      "1400 12227 812\n",
      "1500 13039 844\n",
      "1600 13883 771\n",
      "1700 14654 770\n",
      "1800 15424 730\n",
      "1900 16154 852\n",
      "2000 17006 789\n",
      "2100 17795 779\n",
      "2200 18574 789\n",
      "2300 19363 692\n",
      "2400 20055 774\n",
      "2500 20829 768\n",
      "2600 21597 741\n",
      "2700 22338 776\n",
      "2800 23114 762\n",
      "2900 23876 718\n",
      "3000 24594 695\n"
     ]
    },
    {
     "ename": "KeyboardInterrupt",
     "evalue": "",
     "output_type": "error",
     "traceback": [
      "\u001b[1;31m---------------------------------------------------------------------------\u001b[0m",
      "\u001b[1;31mKeyboardInterrupt\u001b[0m                         Traceback (most recent call last)",
      "Input \u001b[1;32mIn [48]\u001b[0m, in \u001b[0;36m<cell line: 15>\u001b[1;34m()\u001b[0m\n\u001b[0;32m     21\u001b[0m \u001b[38;5;28;01mfor\u001b[39;00m action \u001b[38;5;129;01min\u001b[39;00m \u001b[38;5;28mrange\u001b[39m(\u001b[38;5;28mlen\u001b[39m(action_list)):\n\u001b[0;32m     22\u001b[0m     \u001b[38;5;28;01mif\u001b[39;00m code[action] \u001b[38;5;241m!=\u001b[39m \u001b[38;5;124m'\u001b[39m\u001b[38;5;124m0\u001b[39m\u001b[38;5;124m'\u001b[39m:\n\u001b[1;32m---> 23\u001b[0m         new_code \u001b[38;5;241m=\u001b[39m \u001b[43mg_env\u001b[49m\u001b[38;5;241;43m.\u001b[39;49m\u001b[43mstep\u001b[49m\u001b[43m(\u001b[49m\u001b[43mcode\u001b[49m\u001b[43m,\u001b[49m\u001b[43maction\u001b[49m\u001b[43m)\u001b[49m\n\u001b[0;32m     25\u001b[0m         \u001b[38;5;28;01mif\u001b[39;00m \u001b[38;5;129;01mnot\u001b[39;00m new_code \u001b[38;5;129;01min\u001b[39;00m checked_nodes:\n\u001b[0;32m     26\u001b[0m             unchecked_nodes \u001b[38;5;241m=\u001b[39m unchecked_nodes\u001b[38;5;241m.\u001b[39munion(\u001b[38;5;28mset\u001b[39m([new_code]))\n",
      "Input \u001b[1;32mIn [5]\u001b[0m, in \u001b[0;36mGraphEnvironment.step\u001b[1;34m(self, game_array_code, action)\u001b[0m\n\u001b[0;32m     68\u001b[0m     clear_tiles(\u001b[38;5;28mself\u001b[39m,i,j,clear_tile)\n\u001b[0;32m     69\u001b[0m     update_board(\u001b[38;5;28mself\u001b[39m)\n\u001b[1;32m---> 71\u001b[0m next_state \u001b[38;5;241m=\u001b[39m \u001b[38;5;28;43mself\u001b[39;49m\u001b[38;5;241;43m.\u001b[39;49m\u001b[43mgame_array\u001b[49m\u001b[38;5;241;43m.\u001b[39;49m\u001b[43mreshape\u001b[49m\u001b[43m(\u001b[49m\u001b[38;5;241;43m-\u001b[39;49m\u001b[38;5;241;43m1\u001b[39;49m\u001b[43m,\u001b[49m\u001b[38;5;241;43m1\u001b[39;49m\u001b[43m)\u001b[49m\u001b[38;5;241;43m.\u001b[39;49m\u001b[43mastype\u001b[49m\u001b[43m(\u001b[49m\u001b[38;5;28;43mint\u001b[39;49m\u001b[43m)\u001b[49m[:,\u001b[38;5;241m0\u001b[39m]\n\u001b[0;32m     73\u001b[0m code \u001b[38;5;241m=\u001b[39m \u001b[38;5;124m'\u001b[39m\u001b[38;5;124m'\u001b[39m\n\u001b[0;32m     74\u001b[0m \u001b[38;5;28;01mfor\u001b[39;00m c \u001b[38;5;129;01min\u001b[39;00m next_state:\n",
      "\u001b[1;31mKeyboardInterrupt\u001b[0m: "
     ]
    }
   ],
   "source": [
    "g_env = GraphEnvironment(np.array(initial_layout)[:,0:3])\n",
    "action_list = g_env.action_map\n",
    "board_size = g_env.board_size\n",
    "\n",
    "code = ''\n",
    "for c in g_env.game_array.reshape(-1,1).astype(int)[:,0]:\n",
    "    code += str(c)\n",
    "\n",
    "checked_nodes = set()\n",
    "unchecked_nodes = set([code])\n",
    "i = 0\n",
    "len_unchecked = len(unchecked_nodes)\n",
    "# Breadth first search\n",
    "running_checked = []\n",
    "while len(unchecked_nodes)>0:\n",
    "    code = list(unchecked_nodes)[0]\n",
    "    checked_nodes = checked_nodes.union(set([code]))\n",
    "    running_checked.append(code)\n",
    "    code_set = set([code])\n",
    "    \n",
    "    for action in range(len(action_list)):\n",
    "        if code[action] != '0':\n",
    "            new_code = g_env.step(code,action)\n",
    "           \n",
    "            if not new_code in checked_nodes:\n",
    "                unchecked_nodes = unchecked_nodes.union(set([new_code]))\n",
    "\n",
    "    unchecked_nodes = unchecked_nodes - set([code])\n",
    "    i+=1\n",
    "    if i %100 ==0:\n",
    "        new_len = len(unchecked_nodes)\n",
    "        print(i,len_unchecked,new_len-len_unchecked)\n",
    "        len_unchecked = new_len\n",
    "\n"
   ]
  },
  {
   "cell_type": "code",
   "execution_count": 33,
   "metadata": {},
   "outputs": [
    {
     "data": {
      "text/plain": [
       "11328"
      ]
     },
     "execution_count": 33,
     "metadata": {},
     "output_type": "execute_result"
    }
   ],
   "source": [
    "len(checked_nodes)"
   ]
  },
  {
   "cell_type": "code",
   "execution_count": 36,
   "metadata": {},
   "outputs": [
    {
     "data": {
      "text/plain": [
       "28513"
      ]
     },
     "execution_count": 36,
     "metadata": {},
     "output_type": "execute_result"
    }
   ],
   "source": [
    "len(checked_nodes)"
   ]
  },
  {
   "cell_type": "code",
   "execution_count": 38,
   "metadata": {},
   "outputs": [
    {
     "data": {
      "text/plain": [
       "11268"
      ]
     },
     "execution_count": 38,
     "metadata": {},
     "output_type": "execute_result"
    }
   ],
   "source": [
    "len(checked_nodes)"
   ]
  },
  {
   "cell_type": "code",
   "execution_count": 40,
   "metadata": {},
   "outputs": [
    {
     "data": {
      "text/plain": [
       "1364"
      ]
     },
     "execution_count": 40,
     "metadata": {},
     "output_type": "execute_result"
    }
   ],
   "source": [
    "len(checked_nodes)"
   ]
  },
  {
   "cell_type": "code",
   "execution_count": 42,
   "metadata": {},
   "outputs": [
    {
     "data": {
      "text/plain": [
       "2840"
      ]
     },
     "execution_count": 42,
     "metadata": {},
     "output_type": "execute_result"
    }
   ],
   "source": [
    "len(checked_nodes)"
   ]
  },
  {
   "cell_type": "code",
   "execution_count": 44,
   "metadata": {},
   "outputs": [
    {
     "data": {
      "text/plain": [
       "5816"
      ]
     },
     "execution_count": 44,
     "metadata": {},
     "output_type": "execute_result"
    }
   ],
   "source": [
    "len(checked_nodes)"
   ]
  },
  {
   "cell_type": "code",
   "execution_count": 45,
   "metadata": {},
   "outputs": [
    {
     "data": {
      "text/plain": [
       "61129"
      ]
     },
     "execution_count": 45,
     "metadata": {},
     "output_type": "execute_result"
    }
   ],
   "source": [
    "11328+28513+11268+1364+2840+5816"
   ]
  },
  {
   "cell_type": "code",
   "execution_count": null,
   "metadata": {},
   "outputs": [],
   "source": []
  }
 ],
 "metadata": {
  "kernelspec": {
   "display_name": "base",
   "language": "python",
   "name": "python3"
  },
  "language_info": {
   "codemirror_mode": {
    "name": "ipython",
    "version": 3
   },
   "file_extension": ".py",
   "mimetype": "text/x-python",
   "name": "python",
   "nbconvert_exporter": "python",
   "pygments_lexer": "ipython3",
   "version": "3.9.12"
  }
 },
 "nbformat": 4,
 "nbformat_minor": 2
}
